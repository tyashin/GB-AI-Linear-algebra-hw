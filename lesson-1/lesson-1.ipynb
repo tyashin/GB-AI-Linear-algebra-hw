{
    "cells": [
        {
            "cell_type": "markdown",
            "id": "chicken-blame",
            "metadata": {},
            "source": [
                "# <center> Практическое задание к уроку 1.  \n",
                "## Часть 1."
            ]
        },
        {
            "cell_type": "markdown",
            "id": "distinguished-reliance",
            "metadata": {},
            "source": [
                "__1.__ Исследовать на линейную зависимость:\n",
                "\n",
                "$f_{1}(x)=e^{x}, f_{2}(x)=1, f_{3}(x)=x+1, f_{4}(x)=x-e^{x}$."
            ]
        },
        {
            "cell_type": "markdown",
            "id": "ancient-shell",
            "metadata": {},
            "source": [
                "Заметим, что $x-e^x=-(e^x)-(1)+(x+1)$, т.е. $f_{4}(x)=-f_{1}(x)-f_{2}(x)+f_{3}(x)$, поскольку мы можем выразить один вектор, через линейную комбинацию остальных, $\\Rightarrow$ данные векторы **линейно зависимы**."
            ]
        },
        {
            "cell_type": "markdown",
            "id": "average-salem",
            "metadata": {},
            "source": [
                "__2.__ Исследовать на линейную зависимость:  \n",
                "$f_{1}(x)=2, f_{2}(x)=x, f_{3}(x)=x^{2}, f_{4}(x)=(x+1)^{2}$"
            ]
        },
        {
            "cell_type": "markdown",
            "id": "voluntary-generic",
            "metadata": {},
            "source": [
                "Вектор $f_{4}(x)=(x+1)^2$  можем представить как: $f_{4}(x)=(x+1)^2=x^2+2\\cdot x+1=f_3(x)+2\\cdot f_{2}(x)+0.5\\cdot f_{1}(x)$, поскольку мы можем выразить один вектор, через линейную комбинацию остальных, $\\Rightarrow$ данные векторы **линейно зависимы**."
            ]
        },
        {
            "cell_type": "markdown",
            "id": "agricultural-following",
            "metadata": {},
            "source": [
                "__3.__ Найти координаты вектора $x = (2, 3, 5)\\in \\mathbb{R}^{3}$ в базисе $b_{1}=(0, 0, 10)$, $b_{2}=(2, 0, 0)$, $b_{3}=(0, 1, 0)$."
            ]
        },
        {
            "cell_type": "markdown",
            "id": "intensive-toyota",
            "metadata": {},
            "source": [
                "$x = (2, 3, 5)=1\\cdot (2, 0, 0)+3\\cdot (0, 1, 0)+0.5\\cdot (0, 0, 10)=0.5\\cdot b_{1}+b_{2}+3\\cdot b_{3}$  \n",
                "то есть координаты вектора $x$ в заданном базисе $b_{1}=(0, 0, 10)$, $b_{2}=(2, 0, 0)$, $b_{3}=(0, 1, 0)$ : $(0.5, 1, 3)$"
            ]
        },
        {
            "cell_type": "markdown",
            "id": "formal-census",
            "metadata": {},
            "source": [
                "__4.__ Найти координаты вектора $3x^{2}-2x+2\\in\\mathbb{R}^{3}[x]$:  \n",
                "а) в базисе $1$, $x$, $x^{2}$;  \n",
                "б) в базисе $x^{2}$, $x-1$, $1$."
            ]
        },
        {
            "cell_type": "markdown",
            "id": "fiscal-pharmacology",
            "metadata": {},
            "source": [
                "a) Разложим вектор $3x^{2}-2x+2$ по базису $1$, $x$, $x^{2}$:  \n",
                "$3x^{2}-2x+2=a\\cdot 1+b\\cdot x+c\\cdot x^2$, где $a$, $b$, и $c$ - в заданном базисе.  \n",
                "$3x^{2}-2x+2-a\\cdot 1-b\\cdot x-c\\cdot x^2=0$  \n",
                "$(c-3)\\cdot x^{2}+(b+2)\\cdot x+(a-2)=0$  \n",
                "Поскольку базис пространства - система **линейно независимых** векторов, то получим следующую систему уравнений:  \n",
                "$\\begin{cases} c-3=0\\\\b+2=0\\\\a-2=0\\end{cases}$  \n",
                "Соответственно:  \n",
                "$a=2\\\\b=-2\\\\c=3$  \n",
                "Проверим:  \n",
                "$2\\cdot 1+(-2)\\cdot x+3\\cdot x^2=3x^{2}-2x+2$ получили наш исходный вектор,  \n",
                "$\\Rightarrow$ Координаты вектора $3x^{2}-2x+2$ в базисе $1$, $x$, $x^{2}$ : $(2,-2,3)$  \n",
                "\n",
                "---"
            ]
        },
        {
            "cell_type": "markdown",
            "id": "unlikely-tracy",
            "metadata": {},
            "source": [
                "б) Разложим вектор $3x^{2}-2x+2$ по базису $x^{2}$, $x-1$, $1$:  \n",
                "$3x^{2}-2x+2=a\\cdot x^{2}+b\\cdot (x-1)+c\\cdot 1$  \n",
                "$a\\cdot x^{2}+b\\cdot (x-1)+c\\cdot 1-3x^{2}+2x-2=0$  \n",
                "$(a-3)\\cdot x^{2}+(b+2)\\cdot x+(c-b-2)=0$  \n",
                "$\\begin{cases}a-3=0\\\\b+2=0\\\\c-b-2=0\\end{cases}$  \n",
                "Соответственно:  \n",
                "$a=3\\\\b=-2\\\\c=0$  \n",
                "Проверим:  \n",
                "$3\\cdot x^{2}+(-2)\\cdot(x-1)+0\\cdot 1=3x^{2}-2x+2+0=3x^{2}-2x+2$ получили наш исходный вектор,  \n",
                "$\\Rightarrow$ Координаты вектора $3x^{2}-2x+2$ в базисе $x^{2}$, $x-1$, $1$ : $(3,-2,0)$  "
            ]
        },
        {
            "cell_type": "markdown",
            "id": "western-matthew",
            "metadata": {},
            "source": [
                "__5.__ Установить, является ли линейным подпространством:  \n",
                "а) совокупность всех векторов трехмерного пространства, у которых по крайней мере одна из первых двух координат равна нулю;  \n",
                "б) все векторы, являющиеся линейными комбинациями данных векторов $\\{u_{1}, u_{2}, \\ldots, u_{n}\\}$.  \n",
                "\n",
                "---"
            ]
        },
        {
            "cell_type": "markdown",
            "id": "cordless-eugene",
            "metadata": {},
            "source": [
                "Подмножество $L$ линейного пространства $V$ является его подпространством тогда и только тогда, когда для любых элементов $u, v\\in L$ и любого $\\alpha \\in \\mathbb{R}$ выполняются условия:\n",
                "\n",
                "$$1)\\ u+v\\in L;$$\n",
                "\n",
                "$$2)\\ \\alpha\\cdot u \\in L.$$  \n",
                "\n",
                "---"
            ]
        },
        {
            "cell_type": "markdown",
            "id": "suffering-average",
            "metadata": {},
            "source": [
                "а) Проведем проверку данного утверждения для векторов вида: $(0,a,b)$, $(a,0,b)$, и $(0,0,a)$  \n",
                "$(0,a,b)+(0, c, d)=(0, a+c, b+d)\\\\\\alpha\\cdot (0, a,b)=(0,\\alpha a, \\alpha b)\\\\\\text{В результате так же получили вектор вида (0, a, b)}$  \n",
                "$(a,0,b)+(c, 0, d)=(a+c, 0, b+d)\\\\\\alpha\\cdot (a, 0,b)=(\\alpha a, 0, \\alpha b)\\\\\\text{В результате так же получили вектор вида (a,0,b)}$  \n",
                "$(0,0,a)+(0, 0, b)=(0, 0, a+b)\\\\\\alpha\\cdot (0, 0,a)=(0, 0, \\alpha a)\\\\\\text{В результате так же получили вектор вида (0,0,a)}$\n",
                "Следовательно совокупность векторов линейного пространства, у которых хотя бы одна из двух первых координат равна 0 **является** линейным подпространством.  \n",
                "\n",
                "---"
            ]
        },
        {
            "cell_type": "markdown",
            "id": "difficult-supervision",
            "metadata": {},
            "source": [
                "б) Возьмем вектор $a=\\lambda_1\\cdot u_{1}+\\lambda_2\\cdot u_{2}+\\dots +\\lambda_n\\cdot u_{n}$ и вектор $b=\\mu_1\\cdot u_{1}+\\mu_2\\cdot u_{2}+\\dots +\\mu_n\\cdot u_{n}$  \n",
                "тогда $a+b=u_{1}\\cdot (\\lambda_{1}+\\mu_1)+u_{2}\\cdot (\\lambda_{2}+\\mu_2)+\\dots +u_n(\\lambda_{n}+\\mu_n)$,  \n",
                "a $\\alpha\\cdot a=\\alpha\\cdot\\lambda_1\\cdot u_{1}+\\alpha\\cdot\\lambda_2\\cdot u_{2}+\\dots +\\alpha\\cdot\\lambda_n\\cdot u_{n}=\\alpha\\cdot (\\lambda_1\\cdot u_{1}+\\lambda_2\\cdot u_{2}+\\dots +\\lambda_n\\cdot u_{n})\\Rightarrow$  \n",
                "все векторы, являющиеся линейными комбинациями векторов $\\{u_{1}, u_{2}, \\ldots, u_{n}\\}$ **являются** линейным подпространством.  \n",
                "\n",
                "---"
            ]
        },
        {
            "cell_type": "markdown",
            "id": "innovative-nightlife",
            "metadata": {},
            "source": [
                "## Часть 2."
            ]
        },
        {
            "cell_type": "markdown",
            "id": "meaningful-grave",
            "metadata": {},
            "source": [
                "__1.__ Найти скалярное произведение векторов $x, y \\in \\mathbb{R}$:  \n",
                "а) $x=(0,-3, 6), y=(-4, 7, 9)$;  \n",
                "б) $x=(7, -4, 0, 1), y=(-3, 1, 11, 2)$."
            ]
        },
        {
            "cell_type": "markdown",
            "id": "constant-monroe",
            "metadata": {},
            "source": [
                "Опираясь на формулу скалярного произведения векторов:  \n",
                "$(x,y)=a_{1}b_{1}+a_{2}b_{2}+...+a_{n}b_{n}$   \n",
                "Напишем функцию:  "
            ]
        },
        {
            "cell_type": "code",
            "execution_count": 2,
            "id": "armed-graham",
            "metadata": {},
            "outputs": [],
            "source": [
                "def scalar(vec1, vec2):\n",
                "    assert len(vec1)==len(vec2), 'Вектора должны иметь одинаковую размернность!'\n",
                "    result=0\n",
                "    for i in range(len(vec1)):\n",
                "        result+=vec1[i]*vec2[i]\n",
                "    return result"
            ]
        },
        {
            "cell_type": "markdown",
            "id": "digital-sport",
            "metadata": {},
            "source": [
                "a)"
            ]
        },
        {
            "cell_type": "code",
            "execution_count": 3,
            "id": "colonial-washington",
            "metadata": {},
            "outputs": [
                {
                    "name": "stdout",
                    "output_type": "stream",
                    "text": [
                        "Скалярное произведение векторов [0, -3, 6] и [-4, 7, 9]: 33\n"
                    ]
                }
            ],
            "source": [
                "x=[0,-3,6]\n",
                "y=[-4,7,9]\n",
                "print(f'Скалярное произведение векторов {x} и {y}: {scalar(x,y)}')"
            ]
        },
        {
            "cell_type": "markdown",
            "id": "psychological-floor",
            "metadata": {},
            "source": [
                "Проверим стандартными методами numpy:"
            ]
        },
        {
            "cell_type": "code",
            "execution_count": 4,
            "id": "dominant-rainbow",
            "metadata": {},
            "outputs": [
                {
                    "name": "stdout",
                    "output_type": "stream",
                    "text": [
                        "Скалярное произведение векторов [ 0 -3  6] и [-4  7  9]: 33\n"
                    ]
                }
            ],
            "source": [
                "import numpy as np\n",
                "x=np.array(x)\n",
                "y=np.array(y)\n",
                "print(f'Скалярное произведение векторов {x} и {y}: {x @ y}')"
            ]
        },
        {
            "cell_type": "markdown",
            "id": "shaped-america",
            "metadata": {},
            "source": [
                "---\n",
                "б)"
            ]
        },
        {
            "cell_type": "code",
            "execution_count": 5,
            "id": "demanding-zimbabwe",
            "metadata": {},
            "outputs": [
                {
                    "name": "stdout",
                    "output_type": "stream",
                    "text": [
                        "Скалярное произведение векторов [7, -4, 0, 1] и [-3, 1, 11, 2]: -23\n"
                    ]
                }
            ],
            "source": [
                "print(f'Скалярное произведение векторов {[7,-4,0,1]} и {[-3,1,11,2]}: {scalar([7,-4,0,1],[-3,1,11,2])}')"
            ]
        },
        {
            "cell_type": "markdown",
            "id": "divine-present",
            "metadata": {},
            "source": [
                "Проверка с numpy:"
            ]
        },
        {
            "cell_type": "code",
            "execution_count": 6,
            "id": "olympic-arabic",
            "metadata": {},
            "outputs": [
                {
                    "data": {
                        "text/plain": [
                            "-23"
                        ]
                    },
                    "execution_count": 6,
                    "metadata": {},
                    "output_type": "execute_result"
                }
            ],
            "source": [
                "np.dot(np.array([7, -4, 0, 1]), np.array([-3, 1, 11, 2]))"
            ]
        },
        {
            "cell_type": "markdown",
            "id": "third-conservative",
            "metadata": {},
            "source": [
                "__2.__ Найти нормы векторов $(4, 2, 4)$ и $(12, 3, 4)$ и угол между ними."
            ]
        },
        {
            "cell_type": "markdown",
            "id": "marked-picture",
            "metadata": {},
            "source": [
                "Напишем функции для расчета **манхеттенской** нормы, по формуле:  \n",
                "$\\left\\|x\\right\\|_{1} = \\sum_{i}|x_{i}|$;  \n",
                "и **евклидовой** нормы, по формуле:  \n",
                "$\\left\\|x\\right\\|_{2} = \\sqrt{\\sum_{i}|x_{i}|^{2}}$.  \n",
                "А так же угла между ними, по формуле:  \n",
                "$cos\\varphi = \\frac{(x,y)}{\\left \\|x\\right \\|\\cdot\\left \\|y\\right \\|}$."
            ]
        },
        {
            "cell_type": "code",
            "execution_count": 7,
            "id": "minimal-headline",
            "metadata": {},
            "outputs": [],
            "source": [
                "# Манхеттенская норма вектора\n",
                "def manhattan(vec):\n",
                "    norm=0\n",
                "    for i in vec:\n",
                "        norm+=i if i>0 else -i\n",
                "    return norm    "
            ]
        },
        {
            "cell_type": "code",
            "execution_count": 8,
            "id": "handed-publisher",
            "metadata": {},
            "outputs": [],
            "source": [
                "# Евклидова норма вектора\n",
                "def euclid(vec):\n",
                "    norm=0\n",
                "    for i in vec:\n",
                "        norm+=i**2\n",
                "    return norm**0.5"
            ]
        },
        {
            "cell_type": "code",
            "execution_count": 36,
            "id": "modular-shower",
            "metadata": {},
            "outputs": [],
            "source": [
                "# Угол между векторами(возвращает значение угла между векторами в радианах), \n",
                "\n",
                "from math import acos\n",
                "def angle_between(vec1, vec2):\n",
                "    scalar_vec, n_vec1, n_vec2 = 0,0,0\n",
                "    for i,j in zip(vec1,vec2):\n",
                "        scalar_vec+=i*j\n",
                "        n_vec1+=i**2\n",
                "        n_vec2+=j**2\n",
                "    return round(acos(scalar_vec/((n_vec1**0.5)*(n_vec2**0.5))),2)     "
            ]
        },
        {
            "cell_type": "code",
            "execution_count": 37,
            "id": "cordless-entertainment",
            "metadata": {},
            "outputs": [
                {
                    "name": "stdout",
                    "output_type": "stream",
                    "text": [
                        "Для вектора х=(4,2,4) манхеттенская норма ||x||_1=10, евклидова ||x||_2=6.0\n",
                        "Для вектора y=(12,3,4) манхеттенская норма ||y||_1=19, евклидова ||y||_2=13.0\n",
                        "Угол между векторами х=(4,2,4) и y=(12,3,4): 0.46 радиан.\n"
                    ]
                }
            ],
            "source": [
                "x=np.array([4,2,4])\n",
                "y=np.array([12,3,4])\n",
                "print(f'Для вектора х=(4,2,4) манхеттенская норма ||x||_1={manhattan(x)}, евклидова ||x||_2={euclid(x)}\\n'\n",
                "      f'Для вектора y=(12,3,4) манхеттенская норма ||y||_1={manhattan(y)}, евклидова ||y||_2={euclid(y)}\\n'\n",
                "      f'Угол между векторами х=(4,2,4) и y=(12,3,4): {angle_between(x, y)} радиан.')"
            ]
        },
        {
            "cell_type": "markdown",
            "id": "nasty-mapping",
            "metadata": {},
            "source": [
                "Проверим с помощью методов модуля linalg библиотеки numpy:"
            ]
        },
        {
            "cell_type": "code",
            "execution_count": 38,
            "id": "resident-baseball",
            "metadata": {},
            "outputs": [
                {
                    "name": "stdout",
                    "output_type": "stream",
                    "text": [
                        "Для вектора х=(4,2,4) манхеттенская норма ||x||_1=10.0, евклидова ||x||_2=6.0\n",
                        "Для вектора y=(12,3,4) манхеттенская норма ||y||_1=19.0, евклидова ||y||_2=13.0\n",
                        "Угол между векторами х=(4,2,4) и y=(12,3,4): 0.45687400353266105 радиан.\n"
                    ]
                }
            ],
            "source": [
                "from numpy.linalg import norm\n",
                "print(f'Для вектора х=(4,2,4) манхеттенская норма ||x||_1={norm(x,ord=1)}, евклидова ||x||_2={norm(x, ord=2)}\\n'\n",
                "      f'Для вектора y=(12,3,4) манхеттенская норма ||y||_1={norm(y, ord=1)}, евклидова ||y||_2={norm(y, ord=2)}\\n'\n",
                "      f'Угол между векторами х=(4,2,4) и y=(12,3,4): {acos(np.dot(x, y)/(norm(x, ord=2)*norm(y, ord=2)))} радиан.')"
            ]
        },
        {
            "cell_type": "markdown",
            "id": "southwest-bryan",
            "metadata": {},
            "source": [
                "__3.__ Будет ли линейное пространство евклидовым, если за скалярное произведение принять:  \n",
                "а) произведение длин векторов;  \n",
                "б) утроенное обычное скалярное произведение векторов?  \n",
                "\n",
                "---"
            ]
        },
        {
            "cell_type": "markdown",
            "id": "wound-thinking",
            "metadata": {},
            "source": [
                "Линейное пространство называется *евклидовым* если скалярное произведение двух упорядоченных векторов этого пространства подчиняется следующим 4-м аксиомам:  \n",
                "1) $(x,y)=(y,x)$;  \n",
                "2) $(\\lambda x, y)=\\lambda(x, y)$;  \n",
                "3) $(x_{1}+x_{2},y)=(x_{1},y)+(x_{2},y)$;  \n",
                "4) $(x, x)\\geq0$, причем $(x,x)=0\\Leftrightarrow x=0$.  \n",
                "\n",
                "---"
            ]
        },
        {
            "cell_type": "markdown",
            "id": "latter-assist",
            "metadata": {},
            "source": [
                "a) Пусть $a=(x_a,y_a,z_a)$, $b=(x_b,y_b,z_b)$ и $c=(x_c,y_c,z_c)$ некие вектора.  \n",
                "по условию $<a,b>=|a|\\cdot |b|$  \n",
                "Проверим на соответствие аксиомам:  \n",
                "$<a,b>=<b,a>\\Rightarrow\\sqrt{x^2_{a}+y^2_{a}+z^2_{a}}\\cdot\\sqrt{x^2_{b}+y^2_{b}+z^2_{b}}=\\sqrt{x^2_{b}+y^2_{b}+z^2_{b}}\\cdot \\sqrt{x^2_{a}+y^2_{a}+z^2_{a}}$ - верно;  \n",
                "$<\\lambda\\cdot a,b>=\\lambda\\cdot<a,b> \\Rightarrow\\sqrt{\\lambda^2\\cdot x^2_{a}+\\lambda^2\\cdot y^2_{a}+\\lambda^2\\cdot z^2_{a}}\\cdot\\sqrt{x^2_{b}+y^2_{b}+z^2_{b}}=\\sqrt{\\lambda^2\\cdot(x^2_{a}+y^2_{a}+z^2_{a})}\\cdot\\sqrt{x^2_{b}+y^2_{b}+z^2_{b}}= \\lambda\\cdot\\sqrt{x^2_{a}+y^2_{a}+z^2_{a}}\\cdot\\sqrt{x^2_{b}+y^2_{b}+z^2_{b}}$-верно;    \n",
                "$<a+b,c>=<a,c>+<b,c>\\Rightarrow\\sqrt{(x_{a}+x_{b})^{2}+(y_{a}+y_{b})^{2}+(z_{a}+z_{b})^2}\\cdot\\sqrt{x^2_{c}+y^2_{c}+z^2_{c}}\\neq\\sqrt{x^2_{a}+y^2_{a}+z^2_{a}}\\cdot\\sqrt{x^2_{c}+y^2_{c}+z^2_{c}}+\\sqrt{x^2_{b}+y^2_{b}+z^2_{b}}\\cdot\\sqrt{x^2_{c}+y^2_{c}+z^2_{c}}$  \n",
                "Третья аксиома не выполнена, линейное пространство  **не будет** евклидовым.  \n",
                "\n",
                "---\n",
                "б) по условию $<a,b>=3\\cdot <a,b>$ поскольку в евклидовом пространстве скалярное произведение векторов подчиняется 4-м вышеперичисленным аксиомам, то и утроенное скалярное произведение будет подчиняться этим аксиомам, линейное пространство  **будет** евклидовым."
            ]
        },
        {
            "cell_type": "markdown",
            "id": "nuclear-detroit",
            "metadata": {},
            "source": [
                "__4.__ Какие из нижеперечисленных векторов образуют ортонормированный базис в линейном пространстве $\\mathbb{R}^{3}$:  \n",
                "а) $(1,0,0),(0,0,1)$;  \n",
                "б) $(1/\\sqrt{2},-1/\\sqrt{2},0),(1/\\sqrt{2},1/\\sqrt{2},0), (0,0,1)$;  \n",
                "в) $(1/2, -1/2, 0), (0, 1/2, 1/2), (0,0,1)$;  \n",
                "г) $(1,0,0),(0,1,0),(0,0,1)$?  \n",
                "\n",
                "---  \n",
                "В конечномерном евклидовом пространстве базис $\\{e_{1},e_{2},...,e_{n}\\}$ называется ортонормированным, если  \n",
                "$(e_{i}, e_{j})=0$ $\\forall$ $i\\neq j$ и $(e_{i},e_{i})=1$ $\\forall$ $i\\in[1, n]$.\n",
                "\n",
                "---"
            ]
        },
        {
            "cell_type": "markdown",
            "id": "pleased-physiology",
            "metadata": {},
            "source": [
                "а) имеем 2 вектора, что недостаточно для создания базиса в пространстве $\\mathbb{R}^{3}$  "
            ]
        },
        {
            "cell_type": "markdown",
            "id": "invisible-shadow",
            "metadata": {},
            "source": [
                "б) Найдем попарные скалярные произведения векторов:"
            ]
        },
        {
            "cell_type": "code",
            "execution_count": 68,
            "id": "ecological-murder",
            "metadata": {},
            "outputs": [
                {
                    "name": "stdout",
                    "output_type": "stream",
                    "text": [
                        "<a,b>=0.0\n",
                        "<a,c>=0.0\n",
                        "<b,c>=0.0\n"
                    ]
                }
            ],
            "source": [
                "a=np.array([1/np.sqrt(2), -1/np.sqrt(2),0])\n",
                "b=np.array([1/np.sqrt(2), 1/np.sqrt(2),0])\n",
                "c=np.array([0, 0, 1])\n",
                "print(f'<a,b>={a@b}\\n<a,c>={a@c}\\n<b,c>={b@c}')"
            ]
        },
        {
            "cell_type": "markdown",
            "id": "promotional-whole",
            "metadata": {},
            "source": [
                "Векторы ортогональны.\n",
                "Проверим на нормированность:"
            ]
        },
        {
            "cell_type": "code",
            "execution_count": 69,
            "id": "medical-volume",
            "metadata": {},
            "outputs": [
                {
                    "name": "stdout",
                    "output_type": "stream",
                    "text": [
                        "<a,a>=0.9999999999999998\n",
                        "<b,b>=0.9999999999999998\n",
                        "<c,c>=1\n"
                    ]
                }
            ],
            "source": [
                "print(f'<a,a>={a@a}\\n<b,b>={b@b}\\n<c,c>={c@c}')"
            ]
        },
        {
            "cell_type": "markdown",
            "id": "bulgarian-budget",
            "metadata": {},
            "source": [
                "Условие ортонормированности **выполнено**. Векторы образуют ортонормированный базис в линейном пространстве $\\mathbb{R}^{3}$ \n",
                "\n",
                "---"
            ]
        },
        {
            "cell_type": "markdown",
            "id": "contemporary-fifty",
            "metadata": {},
            "source": [
                "в) "
            ]
        },
        {
            "cell_type": "code",
            "execution_count": 71,
            "id": "painful-friday",
            "metadata": {},
            "outputs": [
                {
                    "name": "stdout",
                    "output_type": "stream",
                    "text": [
                        "<a,b>=0.0\n",
                        "<a,c>=0.0\n",
                        "<b,c>=0.0\n"
                    ]
                }
            ],
            "source": [
                "a=np.array([1/2, -1/2,0])\n",
                "b=np.array([1/2, 1/2,0])\n",
                "c=np.array([0, 0, 1])\n",
                "print(f'<a,b>={a@b}\\n<a,c>={a@c}\\n<b,c>={b@c}')"
            ]
        },
        {
            "cell_type": "markdown",
            "id": "historical-cowboy",
            "metadata": {},
            "source": [
                "Векторы ортогональны.\n",
                "Проверим на нормированность:"
            ]
        },
        {
            "cell_type": "code",
            "execution_count": 73,
            "id": "rubber-symposium",
            "metadata": {},
            "outputs": [
                {
                    "name": "stdout",
                    "output_type": "stream",
                    "text": [
                        "<a,a>=0.5\n",
                        "<b,b>=0.5\n",
                        "<c,c>=1\n"
                    ]
                }
            ],
            "source": [
                "print(f'<a,a>={a@a}\\n<b,b>={b@b}\\n<c,c>={c@c}')"
            ]
        },
        {
            "cell_type": "markdown",
            "id": "regulation-footwear",
            "metadata": {},
            "source": [
                "Условие ортонормированности **не выполнено**. Векторы не образуют ортонормированный базис в линейном пространстве $\\mathbb{R}^{3}$\n",
                "\n",
                "---\n",
                "г)"
            ]
        },
        {
            "cell_type": "code",
            "execution_count": 74,
            "id": "indonesian-enemy",
            "metadata": {},
            "outputs": [
                {
                    "name": "stdout",
                    "output_type": "stream",
                    "text": [
                        "<a,b>=0\n",
                        "<a,c>=0\n",
                        "<b,c>=0\n"
                    ]
                }
            ],
            "source": [
                "a=np.array([1, 0,0])\n",
                "b=np.array([0, 1,0])\n",
                "c=np.array([0, 0, 1])\n",
                "print(f'<a,b>={a@b}\\n<a,c>={a@c}\\n<b,c>={b@c}')"
            ]
        },
        {
            "cell_type": "markdown",
            "id": "operational-frequency",
            "metadata": {},
            "source": [
                "Векторы ортогональны.\n",
                "Проверим на нормированность:"
            ]
        },
        {
            "cell_type": "code",
            "execution_count": 76,
            "id": "enhanced-vitamin",
            "metadata": {},
            "outputs": [
                {
                    "name": "stdout",
                    "output_type": "stream",
                    "text": [
                        "<a,a>=1\n",
                        "<b,b>=1\n",
                        "<c,c>=1\n"
                    ]
                }
            ],
            "source": [
                "print(f'<a,a>={a@a}\\n<b,b>={b@b}\\n<c,c>={c@c}')"
            ]
        },
        {
            "cell_type": "markdown",
            "id": "center-personal",
            "metadata": {},
            "source": [
                "Условие ортонормированности **выполнено**. Векторы образуют ортонормированный базис в линейном пространстве $\\mathbb{R}^{3}$"
            ]
        },
        {
            "cell_type": "code",
            "execution_count": null,
            "id": "cheap-eagle",
            "metadata": {},
            "outputs": [],
            "source": []
        }
    ],
    "metadata": {
        "kernelspec": {
            "display_name": "Python 3",
            "language": "python",
            "name": "python3"
        },
        "language_info": {
            "codemirror_mode": {
                "name": "ipython",
                "version": 3
            },
            "file_extension": ".py",
            "mimetype": "text/x-python",
            "name": "python",
            "nbconvert_exporter": "python",
            "pygments_lexer": "ipython3",
            "version": "3.8.5"
        }
    },
    "nbformat": 4,
    "nbformat_minor": 5
}