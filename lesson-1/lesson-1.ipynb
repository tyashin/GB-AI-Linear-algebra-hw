{
 "cells": [
  {
   "cell_type": "markdown",
   "id": "8a08d1a4",
   "metadata": {},
   "source": [
    "## <div align=\"center\"> Практическое задание к уроку №1 </div>"
   ]
  },
  {
   "cell_type": "markdown",
   "id": "07c7fc82",
   "metadata": {},
   "source": [
    "## "
   ]
  },
  {
   "cell_type": "markdown",
   "id": "9545ae9a",
   "metadata": {},
   "source": [
    "__1-1.__ Исследовать на линейную зависимость:\n",
    "\n",
    "$$f_{1}(x)=e^{x}, f_{2}(x)=1, f_{3}(x)=x+1, f_{4}(x)=x-e^{x}.$$"
   ]
  },
  {
   "cell_type": "markdown",
   "id": "fd33b5f0",
   "metadata": {},
   "source": []
  },
  {
   "cell_type": "markdown",
   "id": "8968e29c",
   "metadata": {},
   "source": [
    " __1-2.__ Исследовать на линейную зависимость:\n",
    "$$f_{1}(x)=2, f_{2}(x)=x, f_{3}(x)=x^{2}, f_{4}(x)=(x+1)^{2}$$"
   ]
  },
  {
   "cell_type": "markdown",
   "id": "f28fc642",
   "metadata": {},
   "source": []
  },
  {
   "cell_type": "markdown",
   "id": "ff494b77",
   "metadata": {},
   "source": [
    "__1-3.__ Найти координаты вектора $x = (2, 3, 5)\\in \\mathbb{R}^{3}$ в базисе $b_{1}=(0, 0, 10)$, $b_{2}=(2, 0, 0)$, $b_{3}=(0, 1, 0)$."
   ]
  },
  {
   "cell_type": "markdown",
   "id": "188f2616",
   "metadata": {},
   "source": []
  },
  {
   "cell_type": "markdown",
   "id": "babb2173",
   "metadata": {},
   "source": [
    "__1-4.__ Найти координаты вектора $3x^{2}-2x+2\\in\\mathbb{R}^{3}[x]$:\n",
    "\n",
    "а) в базисе $1$, $x$, $x^{2}$;\n",
    "\n",
    "б) в базисе $x^{2}$, $x-1$, $1$."
   ]
  },
  {
   "cell_type": "markdown",
   "id": "80c2261c",
   "metadata": {},
   "source": []
  },
  {
   "cell_type": "markdown",
   "id": "57757a90",
   "metadata": {},
   "source": [
    "__1-5.__ Установить, является ли линейным подпространством:\n",
    "\n",
    "а) совокупность всех векторов трехмерного пространства, у которых по крайней мере одна из первых двух координат равна нулю;\n",
    "    \n",
    "б) все векторы, являющиеся линейными комбинациями данных векторов $\\{u_{1}, u_{2}, \\ldots, u_{n}\\}$."
   ]
  },
  {
   "cell_type": "markdown",
   "id": "155d81b4",
   "metadata": {},
   "source": []
  },
  {
   "cell_type": "markdown",
   "id": "c7ff1463",
   "metadata": {},
   "source": [
    "__2-1.__ Найти скалярное произведение векторов $x, y \\in \\mathbb{R}$:<br>\n",
    "а) $x=(0,-3, 6),~y=(-4, 7, 9);$<br>\n",
    "б) $x=(7, -4, 0, 1),~y=(-3, 1, 11, 2).$"
   ]
  },
  {
   "cell_type": "markdown",
   "id": "093c02b7",
   "metadata": {},
   "source": []
  },
  {
   "cell_type": "markdown",
   "id": "8dc59845",
   "metadata": {},
   "source": [
    "__2-2.__ Найти нормы векторов $(4, 2, 4)$ и $(12, 3, 4)$ и угол между ними."
   ]
  },
  {
   "cell_type": "markdown",
   "id": "29cabb3c",
   "metadata": {},
   "source": []
  },
  {
   "cell_type": "markdown",
   "id": "573ba35c",
   "metadata": {},
   "source": [
    "__2-3.__ Будет ли линейное пространство евклидовым, если за скалярное произведение принять:<br>\n",
    "а) произведение длин векторов;<br>\n",
    "б) утроенное обычное скалярное произведение векторов?<br>"
   ]
  },
  {
   "cell_type": "markdown",
   "id": "f752b3f3",
   "metadata": {},
   "source": []
  },
  {
   "cell_type": "markdown",
   "id": "d80f6b0b",
   "metadata": {},
   "source": [
    "__2-4.__ Какие из нижеперечисленных векторов образуют ортонормированный базис в линейном пространстве $\\mathbb{R}^{3}$:<br>\n",
    "а) $(1,0,0),(0,0,1);$ <br>\n",
    "б) $(1/\\sqrt{2},-1/\\sqrt{2},0),(1/\\sqrt{2},1/\\sqrt{2},0), (0,0,1);$<br>\n",
    "в) $(1/2, -1/2, 0), (0, 1/2, 1/2), (0,0,1);$<br>\n",
    "г) $(1,0,0),(0,1,0),(0,0,1)?$ "
   ]
  },
  {
   "cell_type": "markdown",
   "id": "3bae5a9e",
   "metadata": {},
   "source": []
  }
 ],
 "metadata": {
  "kernelspec": {
   "display_name": "Python 3.8.5 64-bit ('base': conda)",
   "language": "python",
   "name": "python385jvsc74a57bd08a49bb684e43ab00106799ded31d49934e1f306b7a86a273670123ff298874f2"
  },
  "language_info": {
   "codemirror_mode": {
    "name": "ipython",
    "version": 3
   },
   "file_extension": ".py",
   "mimetype": "text/x-python",
   "name": "python",
   "nbconvert_exporter": "python",
   "pygments_lexer": "ipython3",
   "version": "3.8.10"
  }
 },
 "nbformat": 4,
 "nbformat_minor": 5
}
