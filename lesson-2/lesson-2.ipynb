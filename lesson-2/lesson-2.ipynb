{
 "cells": [
  {
   "cell_type": "markdown",
   "id": "chicken-blame",
   "metadata": {},
   "source": [
    "## <center> Практическое задание к уроку 2.  \n"
   ]
  },
  {
   "cell_type": "markdown",
   "id": "2bbfbc90",
   "metadata": {},
   "source": [
    "В работе до 03.07.22"
   ]
  }
 ],
 "metadata": {
  "kernelspec": {
   "display_name": "Python 3 (ipykernel)",
   "language": "python",
   "name": "python3"
  },
  "language_info": {
   "codemirror_mode": {
    "name": "ipython",
    "version": 3
   },
   "file_extension": ".py",
   "mimetype": "text/x-python",
   "name": "python",
   "nbconvert_exporter": "python",
   "pygments_lexer": "ipython3",
   "version": "3.8.10"
  }
 },
 "nbformat": 4,
 "nbformat_minor": 5
}
